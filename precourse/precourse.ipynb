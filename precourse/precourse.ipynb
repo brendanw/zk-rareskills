{
 "cells": [
  {
   "cell_type": "markdown",
   "id": "e2e9b44c",
   "metadata": {},
   "source": [
    "# Numpy warmup\n",
    "Make sure you have numpy installed."
   ]
  },
  {
   "cell_type": "code",
   "execution_count": 2,
   "id": "01753a08",
   "metadata": {},
   "outputs": [
    {
     "name": "stdout",
     "output_type": "stream",
     "text": [
      "Collecting numpy\n",
      "  Downloading numpy-1.26.4-cp310-cp310-macosx_11_0_arm64.whl.metadata (61 kB)\n",
      "\u001b[2K     \u001b[38;2;114;156;31m━━━━━━━━━━━━━━━━━━━━━━━━━━━━━━━━━━━━━━━\u001b[0m \u001b[32m61.1/61.1 kB\u001b[0m \u001b[31m205.1 kB/s\u001b[0m eta \u001b[36m0:00:00\u001b[0m1m192.5 kB/s\u001b[0m eta \u001b[36m0:00:01\u001b[0m\n",
      "\u001b[?25hDownloading numpy-1.26.4-cp310-cp310-macosx_11_0_arm64.whl (14.0 MB)\n",
      "\u001b[2K   \u001b[38;2;114;156;31m━━━━━━━━━━━━━━━━━━━━━━━━━━━━━━━━━━━━━━━━\u001b[0m \u001b[32m14.0/14.0 MB\u001b[0m \u001b[31m2.3 MB/s\u001b[0m eta \u001b[36m0:00:00\u001b[0mm eta \u001b[36m0:00:01\u001b[0m[36m0:00:01\u001b[0mm\n",
      "\u001b[?25hInstalling collected packages: numpy\n",
      "Successfully installed numpy-1.26.4\n"
     ]
    }
   ],
   "source": [
    "!python -m pip install numpy"
   ]
  },
  {
   "cell_type": "markdown",
   "id": "17250340",
   "metadata": {},
   "source": [
    "You might need to restart the notebook after running the command above"
   ]
  },
  {
   "cell_type": "code",
   "execution_count": 3,
   "id": "8866afe4",
   "metadata": {},
   "outputs": [],
   "source": [
    "import numpy as np"
   ]
  },
  {
   "cell_type": "markdown",
   "id": "9e2c9e49",
   "metadata": {},
   "source": [
    "## Exercise 1, add two arrays together\n",
    "We have two arrays: A and B\n",
    "\n",
    "`A = [[1,2,3],[4,5,6],[7,8,9]]`\n",
    "\n",
    "`B = [[1,1,1],[2,2,2],[3,3,3]]`\n",
    "\n",
    "`C = [[2,3,4],[6,7,8],[10,11,12]]`\n",
    "\n",
    "Your code should work for general matrices, not just the ones above. Use `np.array`, not `np.matrix`. Your function will need to cast the above to np.arrays. If you get stuck ask chatGPT!"
   ]
  },
  {
   "cell_type": "code",
   "execution_count": 25,
   "id": "9cbe865f",
   "metadata": {},
   "outputs": [],
   "source": [
    "A = [[1,2,3],[4,5,6],[7,8,9]]\n",
    "B = [[1,1,1],[2,2,2],[3,3,3]]\n",
    "C = [[2,3,4],[6,7,8],[10,11,12]]"
   ]
  },
  {
   "cell_type": "code",
   "execution_count": 26,
   "id": "1ab01269",
   "metadata": {},
   "outputs": [],
   "source": [
    "def add_arrays(A, B):\n",
    "    # your code here\n",
    "    A_array = np.array(A)\n",
    "    B_array = np.array(B)\n",
    "    C_array = A_array + B_array\n",
    "    return C_array"
   ]
  },
  {
   "cell_type": "code",
   "execution_count": 27,
   "id": "097983dc",
   "metadata": {},
   "outputs": [],
   "source": [
    "assert (add_arrays(A, B) == np.array(C)).all()"
   ]
  },
  {
   "cell_type": "markdown",
   "id": "f6f903e5",
   "metadata": {},
   "source": [
    "What does the `.all()` do? The above operation does an elementwise equality check. It checks that every item in the array is `True`."
   ]
  },
  {
   "cell_type": "code",
   "execution_count": 28,
   "id": "550e56d2",
   "metadata": {},
   "outputs": [
    {
     "name": "stdout",
     "output_type": "stream",
     "text": [
      "True\n",
      "False\n"
     ]
    }
   ],
   "source": [
    "print(np.array([True, True, True]).all())\n",
    "print(np.array([False, True, True]).all())"
   ]
  },
  {
   "cell_type": "markdown",
   "id": "49157f37",
   "metadata": {},
   "source": [
    "## Exercise 2, element-wise and matrix multiplication\n",
    "When dealing with numpy arrays, we need to be clear if we are doing matrix multiplication or elementwise multiplication.\n",
    "\n",
    "Your task is to write functions for both. Numpy supports both, figure out how it does it. Don't implement it manually"
   ]
  },
  {
   "cell_type": "code",
   "execution_count": 30,
   "id": "c2982bc1",
   "metadata": {},
   "outputs": [],
   "source": [
    "def matrix_multiply(A, B):\n",
    "    A = np.array(A)\n",
    "    B = np.array(B)\n",
    "    C = A @ B\n",
    "    return C"
   ]
  },
  {
   "cell_type": "code",
   "execution_count": 31,
   "id": "8dc13c41",
   "metadata": {},
   "outputs": [],
   "source": [
    "def element_wise_multiply(A, B):\n",
    "    A = np.array(A)\n",
    "    B = np.array(B)\n",
    "    C = A * B\n",
    "    return C"
   ]
  },
  {
   "cell_type": "markdown",
   "id": "eca881d3",
   "metadata": {},
   "source": [
    "To avoid giving hints, we won't supply the test case here. But you can check your work online!"
   ]
  },
  {
   "cell_type": "markdown",
   "id": "96feaeb5",
   "metadata": {},
   "source": [
    "## Exercise 3, the dot product\n",
    "The dot product is another kind of multiplication.\n",
    "\n",
    "We expect [1,2,3,4] $\\cdot$ [1,2,3,4] to be equal (1 * 1) + (2 * 2) + (3 * 3) + (4 * 4) = 1 + 4 + 9 + 16 = 20\n",
    "\n",
    "Figure out numpy's implementation and do it. Don't implement it manually."
   ]
  },
  {
   "cell_type": "code",
   "execution_count": null,
   "id": "79d94f9d",
   "metadata": {},
   "outputs": [],
   "source": [
    "def dot_product(A, B):\n",
    "    A = np.array(A)\n",
    "    B = np.array(B)\n",
    "    return np.dot(A, B)"
   ]
  },
  {
   "cell_type": "markdown",
   "id": "d5d6b6eb",
   "metadata": {},
   "source": [
    "## Exercise 4, linear combinations\n",
    "\n",
    "A linear combination is a Vector multiplied by a constant plus another Vector multiplied by a constant.\n",
    "\n",
    "Aa + Bb = C (A, B, C are vectors, a and b are scalars)\n",
    "\n",
    "Compute the linear combination in the general case."
   ]
  },
  {
   "cell_type": "code",
   "execution_count": 32,
   "id": "6b7aefb5",
   "metadata": {},
   "outputs": [],
   "source": [
    "def linearCombination(A, B, a, b):\n",
    "    # Todo, add your code\n",
    "    vectorA = np.array(A)\n",
    "    vectorB = np.array(B)\n",
    "    return a * vectorA + b * vectorB"
   ]
  },
  {
   "cell_type": "code",
   "execution_count": 33,
   "id": "d3f6a236",
   "metadata": {},
   "outputs": [],
   "source": [
    "vector1 = np.array([1,2])\n",
    "vector2 = np.array([5,6])\n",
    "scalar1 = 3\n",
    "scalar2 = 10\n",
    "\n",
    "assert (np.array([53, 66]) == linearCombination(vector1, vector2, scalar1, scalar2)).all()"
   ]
  },
  {
   "cell_type": "markdown",
   "id": "9aef33f9",
   "metadata": {},
   "source": [
    "## Exercise 5, modular arithmetic\n",
    "Modular arithmetic is important in cryptography. The challenge here is to compute the modular inverse of 15 % 1223. That is 15 * x % 1223 == 1. The basic syntax for this is the same as other languages"
   ]
  },
  {
   "cell_type": "code",
   "execution_count": 34,
   "id": "677158cf",
   "metadata": {},
   "outputs": [
    {
     "data": {
      "text/plain": [
       "80"
      ]
     },
     "execution_count": 34,
     "metadata": {},
     "output_type": "execute_result"
    }
   ],
   "source": [
    "(5 * 16) % 1223"
   ]
  },
  {
   "cell_type": "code",
   "execution_count": 35,
   "id": "45cb06b9",
   "metadata": {},
   "outputs": [
    {
     "data": {
      "text/plain": [
       "1"
      ]
     },
     "execution_count": 35,
     "metadata": {},
     "output_type": "execute_result"
    }
   ],
   "source": [
    "(5 + 1219) % 1223"
   ]
  },
  {
   "cell_type": "markdown",
   "id": "65e93812",
   "metadata": {},
   "source": [
    "Be very careful, because the mod operator sometimes takes precedence!"
   ]
  },
  {
   "cell_type": "code",
   "execution_count": 37,
   "id": "7d61ec1e",
   "metadata": {},
   "outputs": [],
   "source": [
    "x = pow(5, -1, 1223)\n",
    "assert 5 * x % 1223 == 1"
   ]
  },
  {
   "cell_type": "markdown",
   "id": "9bbe7483",
   "metadata": {},
   "source": [
    "Hint: Python 3.8 has a very nice way to do this"
   ]
  },
  {
   "cell_type": "markdown",
   "id": "d434b6cd",
   "metadata": {},
   "source": [
    "## Exercise 6, Column and Row Slicing\n",
    "\n",
    "Numpy let's you select rows and columns from matrices. For example, given\n",
    "\n",
    "```\n",
    "[[1,2,3],\n",
    " [4,5,6],\n",
    " [7,8,9]] \n",
    "```\n",
    " \n",
    "you can retrive [2,5,8] or [7,8,9] conveniently. Implement those below:"
   ]
  },
  {
   "cell_type": "code",
   "execution_count": 42,
   "id": "399f2287",
   "metadata": {},
   "outputs": [],
   "source": [
    "def get_column_as_1d(A, col_number):\n",
    "    numpyA = np.array(A)\n",
    "    column = numpyA[:, col_number]\n",
    "    return column\n",
    "\n",
    "def get_row_as_1d(A, row_number):\n",
    "    numpyA = np.array(A)\n",
    "    row = numpyA[row_number, :]\n",
    "    return row"
   ]
  },
  {
   "cell_type": "code",
   "execution_count": 43,
   "id": "f59f1e4e",
   "metadata": {},
   "outputs": [],
   "source": [
    "A = [[1,2,3],[4,5,6],[7,8,9]] "
   ]
  },
  {
   "cell_type": "code",
   "execution_count": 44,
   "id": "2e611192",
   "metadata": {},
   "outputs": [
    {
     "name": "stdout",
     "output_type": "stream",
     "text": [
      "[2 5 8]\n"
     ]
    }
   ],
   "source": [
    "print(get_column_as_1d(A, 1)) # [2,5,8]"
   ]
  },
  {
   "cell_type": "code",
   "execution_count": 45,
   "id": "445ddc25",
   "metadata": {},
   "outputs": [
    {
     "name": "stdout",
     "output_type": "stream",
     "text": [
      "[7 8 9]\n"
     ]
    }
   ],
   "source": [
    "print(get_row_as_1d(A, 2)) # [7,8,9]"
   ]
  },
  {
   "cell_type": "code",
   "execution_count": null,
   "id": "2571438e-005c-4ce0-a272-fda741de8802",
   "metadata": {},
   "outputs": [],
   "source": []
  },
  {
   "cell_type": "code",
   "execution_count": null,
   "id": "49935f51-6cd7-4800-8609-da71e03eddb4",
   "metadata": {},
   "outputs": [],
   "source": []
  }
 ],
 "metadata": {
  "kernelspec": {
   "display_name": "Python 3 (ipykernel)",
   "language": "python",
   "name": "python3"
  },
  "language_info": {
   "codemirror_mode": {
    "name": "ipython",
    "version": 3
   },
   "file_extension": ".py",
   "mimetype": "text/x-python",
   "name": "python",
   "nbconvert_exporter": "python",
   "pygments_lexer": "ipython3",
   "version": "3.10.5"
  }
 },
 "nbformat": 4,
 "nbformat_minor": 5
}
